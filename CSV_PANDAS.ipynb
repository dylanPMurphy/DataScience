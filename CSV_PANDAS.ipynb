{
  "nbformat": 4,
  "nbformat_minor": 0,
  "metadata": {
    "colab": {
      "name": "CSV_PANDAS.ipynb",
      "provenance": [],
      "authorship_tag": "ABX9TyMgk2yhze+qYy+PQdCeOvcu",
      "include_colab_link": true
    },
    "kernelspec": {
      "name": "python3",
      "display_name": "Python 3"
    },
    "language_info": {
      "name": "python"
    }
  },
  "cells": [
    {
      "cell_type": "markdown",
      "metadata": {
        "id": "view-in-github",
        "colab_type": "text"
      },
      "source": [
        "<a href=\"https://colab.research.google.com/github/dylanPMurphy/DataScience/blob/master/CSV_PANDAS.ipynb\" target=\"_parent\"><img src=\"https://colab.research.google.com/assets/colab-badge.svg\" alt=\"Open In Colab\"/></a>"
      ]
    },
    {
      "cell_type": "code",
      "metadata": {
        "id": "q3ho8uSkOU7Y"
      },
      "source": [
        "import pandas as pd\n",
        "import numpy as np\n",
        "\n"
      ],
      "execution_count": null,
      "outputs": []
    },
    {
      "cell_type": "code",
      "metadata": {
        "id": "WmxgQD7DOqGz"
      },
      "source": [
        "Salaries = pd.read_csv('Employee_salary_data_2020.csv')"
      ],
      "execution_count": null,
      "outputs": []
    },
    {
      "cell_type": "code",
      "metadata": {
        "colab": {
          "base_uri": "https://localhost:8080/"
        },
        "id": "nWuPg31pPM9Z",
        "outputId": "29ace803-f654-4eec-aa3f-6158b0575559"
      },
      "source": [
        "Salaries.columns\n"
      ],
      "execution_count": null,
      "outputs": [
        {
          "output_type": "execute_result",
          "data": {
            "text/plain": [
              "Index(['Date', 'Name', 'Job Title', 'Department Name', 'Regular Pay',\n",
              "       'Overtime Pay', 'Other Pay', 'Total Gross Pay',\n",
              "       'Employer Share of Health Benefits', 'Employer Share of Retirement',\n",
              "       'Employer Pick Up of Employee Share of Retirement',\n",
              "       'Employer Contribution Towards Def Comp',\n",
              "       'Employer Cost of Life Insurance of LTD, Medicare, SS',\n",
              "       'Other Employer Costs'],\n",
              "      dtype='object')"
            ]
          },
          "metadata": {},
          "execution_count": 4
        }
      ]
    },
    {
      "cell_type": "code",
      "metadata": {
        "colab": {
          "base_uri": "https://localhost:8080/"
        },
        "id": "jWZBRhb7PiVJ",
        "outputId": "8b0dbc56-9133-467c-85ec-50943b25f8fa"
      },
      "source": [
        "Salaries.dtypes"
      ],
      "execution_count": null,
      "outputs": [
        {
          "output_type": "execute_result",
          "data": {
            "text/plain": [
              "Date                                                     object\n",
              "Name                                                     object\n",
              "Job Title                                                object\n",
              "Department Name                                          object\n",
              "Regular Pay                                             float64\n",
              "Overtime Pay                                            float64\n",
              "Other Pay                                               float64\n",
              "Total Gross Pay                                         float64\n",
              "Employer Share of Health Benefits                       float64\n",
              "Employer Share of Retirement                            float64\n",
              "Employer Pick Up of Employee Share of Retirement        float64\n",
              "Employer Contribution Towards Def Comp                  float64\n",
              "Employer Cost of Life Insurance of LTD, Medicare, SS    float64\n",
              "Other Employer Costs                                    float64\n",
              "dtype: object"
            ]
          },
          "metadata": {},
          "execution_count": 5
        }
      ]
    },
    {
      "cell_type": "code",
      "metadata": {
        "id": "h3oa3VfOQkii"
      },
      "source": [
        "Titles = Salaries[\"Job Title\"]"
      ],
      "execution_count": null,
      "outputs": []
    },
    {
      "cell_type": "code",
      "metadata": {
        "colab": {
          "base_uri": "https://localhost:8080/"
        },
        "id": "VRIK5dI-RfmD",
        "outputId": "b2efa512-a733-4d75-c2cc-e73a977609f5"
      },
      "source": [
        "counts = Titles.value_counts()\n",
        "counts.dtype"
      ],
      "execution_count": null,
      "outputs": [
        {
          "output_type": "execute_result",
          "data": {
            "text/plain": [
              "dtype('int64')"
            ]
          },
          "metadata": {},
          "execution_count": 23
        }
      ]
    },
    {
      "cell_type": "code",
      "metadata": {
        "colab": {
          "base_uri": "https://localhost:8080/"
        },
        "id": "RjJhfvZpRhe8",
        "outputId": "693e62e3-2e0a-415a-ca70-471a2d5da310"
      },
      "source": [
        "counts.index"
      ],
      "execution_count": null,
      "outputs": [
        {
          "output_type": "execute_result",
          "data": {
            "text/plain": [
              "Index(['Office Assistant I', 'Deputy Sheriff',\n",
              "       'Sheriff's Correctional Officer', 'Benefits Analyst II',\n",
              "       'Patient Services Assistant II', 'Medical Services Assistant II',\n",
              "       'Office Assistant II', 'Office Specialist', 'Management Analyst',\n",
              "       'Legal Office Specialist',\n",
              "       ...\n",
              "       'Supervising Child Psychiatrist', 'Senior Property Tax Specialist',\n",
              "       '911 Communications Calltaker\\n\\nMedical Office Assistant II',\n",
              "       'Supervising Public Health Microbiologist - Exempt',\n",
              "       'Program Coordinator II - Confidential', 'Pharmacy Buyer',\n",
              "       'Telephone Services Analyst', 'Supervising Cook - Exempt',\n",
              "       'Director, Office of Sustainability',\n",
              "       'Hospital And Clinics Controller'],\n",
              "      dtype='object', length=789)"
            ]
          },
          "metadata": {},
          "execution_count": 24
        }
      ]
    },
    {
      "cell_type": "code",
      "metadata": {
        "id": "fmKy9B4WUZ7S"
      },
      "source": [
        "multiple_titles = []\n",
        "\n",
        "for i, s in enumerate(counts.index):\n",
        "\n",
        "  if \"\\n\" in s:\n",
        "    multiple_titles.append(i)\n"
      ],
      "execution_count": null,
      "outputs": []
    },
    {
      "cell_type": "code",
      "metadata": {
        "colab": {
          "base_uri": "https://localhost:8080/"
        },
        "id": "-dx0EpojUxOm",
        "outputId": "3bf7a727-c367-42b8-ca1a-dbef934c318c"
      },
      "source": [
        "multiple_titles"
      ],
      "execution_count": null,
      "outputs": [
        {
          "output_type": "execute_result",
          "data": {
            "text/plain": [
              "[126,\n",
              " 189,\n",
              " 361,\n",
              " 466,\n",
              " 517,\n",
              " 542,\n",
              " 561,\n",
              " 567,\n",
              " 570,\n",
              " 583,\n",
              " 593,\n",
              " 596,\n",
              " 612,\n",
              " 614,\n",
              " 619,\n",
              " 631,\n",
              " 649,\n",
              " 667,\n",
              " 679,\n",
              " 680,\n",
              " 684,\n",
              " 698,\n",
              " 707,\n",
              " 709,\n",
              " 715,\n",
              " 728,\n",
              " 771,\n",
              " 781]"
            ]
          },
          "metadata": {},
          "execution_count": 30
        }
      ]
    },
    {
      "cell_type": "code",
      "metadata": {
        "id": "t8Vo_cXPV4XT"
      },
      "source": [
        "for i in multiple_titles"
      ],
      "execution_count": null,
      "outputs": []
    }
  ]
}