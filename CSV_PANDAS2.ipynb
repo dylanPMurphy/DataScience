{
 "cells": [
  {
   "cell_type": "code",
   "execution_count": 2,
   "metadata": {
    "id": "q3ho8uSkOU7Y"
   },
   "outputs": [],
   "source": [
    "import pandas as pd\n",
    "import numpy as np\n",
    "\n"
   ]
  },
  {
   "cell_type": "code",
   "execution_count": 3,
   "metadata": {
    "id": "WmxgQD7DOqGz"
   },
   "outputs": [],
   "source": [
    "Salaries = pd.read_csv('Employee_salary_data_2020.csv')"
   ]
  },
  {
   "cell_type": "code",
   "execution_count": 4,
   "metadata": {
    "colab": {
     "base_uri": "https://localhost:8080/"
    },
    "id": "nWuPg31pPM9Z",
    "outputId": "29ace803-f654-4eec-aa3f-6158b0575559"
   },
   "outputs": [
    {
     "data": {
      "text/plain": [
       "Index(['Date', 'Name', 'Job Title', 'Department Name', 'Regular Pay',\n",
       "       'Overtime Pay', 'Other Pay', 'Total Gross Pay',\n",
       "       'Employer Share of Health Benefits', 'Employer Share of Retirement',\n",
       "       'Employer Pick Up of Employee Share of Retirement',\n",
       "       'Employer Contribution Towards Def Comp',\n",
       "       'Employer Cost of Life Insurance of LTD, Medicare, SS',\n",
       "       'Other Employer Costs'],\n",
       "      dtype='object')"
      ]
     },
     "execution_count": 4,
     "metadata": {},
     "output_type": "execute_result"
    }
   ],
   "source": [
    "Salaries.columns\n"
   ]
  },
  {
   "cell_type": "code",
   "execution_count": 5,
   "metadata": {
    "colab": {
     "base_uri": "https://localhost:8080/"
    },
    "id": "jWZBRhb7PiVJ",
    "outputId": "8b0dbc56-9133-467c-85ec-50943b25f8fa"
   },
   "outputs": [
    {
     "data": {
      "text/plain": [
       "Date                                                     object\n",
       "Name                                                     object\n",
       "Job Title                                                object\n",
       "Department Name                                          object\n",
       "Regular Pay                                             float64\n",
       "Overtime Pay                                            float64\n",
       "Other Pay                                               float64\n",
       "Total Gross Pay                                         float64\n",
       "Employer Share of Health Benefits                       float64\n",
       "Employer Share of Retirement                            float64\n",
       "Employer Pick Up of Employee Share of Retirement        float64\n",
       "Employer Contribution Towards Def Comp                  float64\n",
       "Employer Cost of Life Insurance of LTD, Medicare, SS    float64\n",
       "Other Employer Costs                                    float64\n",
       "dtype: object"
      ]
     },
     "execution_count": 5,
     "metadata": {},
     "output_type": "execute_result"
    }
   ],
   "source": [
    "Salaries.dtypes"
   ]
  },
  {
   "cell_type": "code",
   "execution_count": 6,
   "metadata": {
    "id": "h3oa3VfOQkii"
   },
   "outputs": [],
   "source": [
    "Titles = Salaries[\"Job Title\"]"
   ]
  },
  {
   "cell_type": "code",
   "execution_count": 7,
   "metadata": {
    "colab": {
     "base_uri": "https://localhost:8080/"
    },
    "id": "VRIK5dI-RfmD",
    "outputId": "b2efa512-a733-4d75-c2cc-e73a977609f5"
   },
   "outputs": [
    {
     "data": {
      "text/plain": [
       "dtype('int64')"
      ]
     },
     "execution_count": 7,
     "metadata": {},
     "output_type": "execute_result"
    }
   ],
   "source": [
    "counts = Titles.value_counts()\n",
    "counts.dtype"
   ]
  },
  {
   "cell_type": "code",
   "execution_count": 8,
   "metadata": {
    "colab": {
     "base_uri": "https://localhost:8080/"
    },
    "id": "RjJhfvZpRhe8",
    "outputId": "693e62e3-2e0a-415a-ca70-471a2d5da310"
   },
   "outputs": [
    {
     "data": {
      "text/plain": [
       "Index(['Office Assistant I', 'Deputy Sheriff',\n",
       "       'Sheriff's Correctional Officer', 'Benefits Analyst II',\n",
       "       'Patient Services Assistant II', 'Medical Services Assistant II',\n",
       "       'Office Assistant II', 'Office Specialist', 'Management Analyst',\n",
       "       'Legal Office Specialist',\n",
       "       ...\n",
       "       'Information Technology Analyst - Unclassified',\n",
       "       'Department Facilities Project Manager',\n",
       "       'Supervising District Coordinator, Sheriff's OES',\n",
       "       'Building Inspector Manager',\n",
       "       'Resource Specialist Patient Financial Services System',\n",
       "       'Procurement Manager', 'Management Analyst - Y Rate',\n",
       "       'Manager, Corporate And HIPAA Compliance',\n",
       "       'Office Services Manager, District Attorney's Office',\n",
       "       'Early Child Care and Education Specialist - Extra Help'],\n",
       "      dtype='object', length=789)"
      ]
     },
     "execution_count": 8,
     "metadata": {},
     "output_type": "execute_result"
    }
   ],
   "source": [
    "counts.index"
   ]
  },
  {
   "cell_type": "code",
   "execution_count": 9,
   "metadata": {
    "id": "fmKy9B4WUZ7S"
   },
   "outputs": [],
   "source": [
    "multiple_titles = []\n",
    "\n",
    "for i, s in enumerate(counts.index):\n",
    "\n",
    "  if \"\\n\" in s:\n",
    "    multiple_titles.append(i)\n"
   ]
  },
  {
   "cell_type": "code",
   "execution_count": 12,
   "metadata": {
    "colab": {
     "base_uri": "https://localhost:8080/"
    },
    "id": "-dx0EpojUxOm",
    "outputId": "3bf7a727-c367-42b8-ca1a-dbef934c318c"
   },
   "outputs": [
    {
     "name": "stdout",
     "output_type": "stream",
     "text": [
      "[126, 195, 405, 478, 502, 509, 511, 518, 522, 524, 531, 543, 546, 547, 549, 551, 602, 620, 621, 630, 652, 662, 672, 719, 720, 729, 765, 774]\n"
     ]
    }
   ],
   "source": [
    "print(multiple_titles)"
   ]
  },
  {
   "cell_type": "code",
   "execution_count": 20,
   "metadata": {
    "id": "t8Vo_cXPV4XT"
   },
   "outputs": [
    {
     "name": "stdout",
     "output_type": "stream",
     "text": [
      "**********idx:126**********\n",
      "Adult Psychiatrist\n",
      "\n",
      "Psychiatric Specialist Hospital Inpatient - Unclassified\n",
      "***************************\n",
      "--------------------------------------------\n",
      "\n",
      "**********idx:195**********\n",
      "Psychiatric Resident - Unclassified\n",
      "\n",
      "Psychiatric Specialist - Unclassified\n",
      "***************************\n",
      "--------------------------------------------\n",
      "\n",
      "**********idx:405**********\n",
      "Nurse Practitioner\n",
      "\n",
      "SART Nurse - Extra Help\n",
      "***************************\n",
      "--------------------------------------------\n",
      "\n",
      "**********idx:478**********\n",
      "Psychiatric Specialist Hospital Inpatient - Unclassified\n",
      "\n",
      "Supervising Adult Psychiatrist\n",
      "***************************\n",
      "--------------------------------------------\n",
      "\n",
      "**********idx:502**********\n",
      "Road Maintenance Worker II\n",
      "\n",
      "Utility Worker II\n",
      "***************************\n",
      "--------------------------------------------\n",
      "\n",
      "**********idx:509**********\n",
      "911 Communications Calltaker\n",
      "\n",
      "Medical Office Assistant II\n",
      "***************************\n",
      "--------------------------------------------\n",
      "\n",
      "**********idx:511**********\n",
      "Medical Director\n",
      "\n",
      "Psychiatric Specialist Hospital Inpatient - Unclassified\n",
      "***************************\n",
      "--------------------------------------------\n",
      "\n",
      "**********idx:518**********\n",
      "Community Services Officer I\n",
      "\n",
      "Community Worker I\n",
      "***************************\n",
      "--------------------------------------------\n",
      "\n",
      "**********idx:522**********\n",
      "Group Supervisor I\n",
      "\n",
      "Intern / Fellow II\n",
      "***************************\n",
      "--------------------------------------------\n",
      "\n",
      "**********idx:524**********\n",
      "Assistant Systems Engineer\n",
      "\n",
      "Senior Graphics Specialist\n",
      "***************************\n",
      "--------------------------------------------\n",
      "\n",
      "**********idx:531**********\n",
      "Fiscal Office Specialist\n",
      "\n",
      "Group Supervisor I\n",
      "***************************\n",
      "--------------------------------------------\n",
      "\n",
      "**********idx:543**********\n",
      "Accountant II\n",
      "\n",
      "Senior Accountant - Exempt\n",
      "***************************\n",
      "--------------------------------------------\n",
      "\n",
      "**********idx:546**********\n",
      "Hospital Unit Coordinator\n",
      "\n",
      "Patient Services Specialist\n",
      "***************************\n",
      "--------------------------------------------\n",
      "\n",
      "**********idx:547**********\n",
      "Office Assistant I\n",
      "\n",
      "Office Specialist\n",
      "***************************\n",
      "--------------------------------------------\n",
      "\n",
      "**********idx:549**********\n",
      "Hospital Unit Coordinator\n",
      "\n",
      "Medical Services Assistant I\n",
      "***************************\n",
      "--------------------------------------------\n",
      "\n",
      "**********idx:551**********\n",
      "Psychiatric Resident - Unclassified\n",
      "\n",
      "Psychiatric Specialist Hospital Inpatient - Unclassified\n",
      "***************************\n",
      "--------------------------------------------\n",
      "\n",
      "**********idx:602**********\n",
      "Deputy Health Officer\n",
      "\n",
      "Psychiatric Specialist Hospital Inpatient - Unclassified\n",
      "***************************\n",
      "--------------------------------------------\n",
      "\n",
      "**********idx:620**********\n",
      "LAFCO Commissioner\n",
      "\n",
      "Supervisor 3rd Supervisorial District - Elective\n",
      "***************************\n",
      "--------------------------------------------\n",
      "\n",
      "**********idx:621**********\n",
      "LAFCO Commissioner\n",
      "\n",
      "Supervisor 4th Supervisorial District - Elective\n",
      "***************************\n",
      "--------------------------------------------\n",
      "\n",
      "**********idx:630**********\n",
      "Critical Care Nurse\n",
      "\n",
      "SART Nurse - Extra Help\n",
      "***************************\n",
      "--------------------------------------------\n",
      "\n",
      "**********idx:652**********\n",
      "Medical Director\n",
      "\n",
      "Physician Specialist - Unclassified\n",
      "***************************\n",
      "--------------------------------------------\n",
      "\n",
      "**********idx:662**********\n",
      "Clinical Services Manager II - Nursing\n",
      "\n",
      "Nurse Practitioner\n",
      "***************************\n",
      "--------------------------------------------\n",
      "\n",
      "**********idx:672**********\n",
      "SART Nurse - Extra Help\n",
      "\n",
      "Supervising Nurse Practitioner\n",
      "***************************\n",
      "--------------------------------------------\n",
      "\n",
      "**********idx:719**********\n",
      "Hospital Unit Coordinator\n",
      "\n",
      "Office Assistant II\n",
      "***************************\n",
      "--------------------------------------------\n",
      "\n",
      "**********idx:720**********\n",
      "Legal Office Specialist\n",
      "\n",
      "Licensed Vocational Nurse - Relief\n",
      "***************************\n",
      "--------------------------------------------\n",
      "\n",
      "**********idx:729**********\n",
      "Legal Office Specialist\n",
      "\n",
      "Medical Office Assistant II\n",
      "***************************\n",
      "--------------------------------------------\n",
      "\n",
      "**********idx:765**********\n",
      "Communications Dispatcher II - Relief\n",
      "\n",
      "Deputy Sheriff\n",
      "***************************\n",
      "--------------------------------------------\n",
      "\n",
      "**********idx:774**********\n",
      "Stationary Engineer I\n",
      "\n",
      "Utility Worker II\n",
      "***************************\n",
      "--------------------------------------------\n",
      "\n"
     ]
    }
   ],
   "source": [
    "for i in multiple_titles:\n",
    "    print(\"**********idx:\"+str(i)+\"**********\\n\"+ counts.index[i] + \"\\n***************************\\n--------------------------------------------\\n\")"
   ]
  },
  {
   "cell_type": "code",
   "execution_count": null,
   "metadata": {},
   "outputs": [],
   "source": []
  }
 ],
 "metadata": {
  "colab": {
   "authorship_tag": "ABX9TyMgk2yhze+qYy+PQdCeOvcu",
   "include_colab_link": true,
   "name": "CSV_PANDAS.ipynb",
   "provenance": []
  },
  "kernelspec": {
   "display_name": "Python 3 (ipykernel)",
   "language": "python",
   "name": "python3"
  },
  "language_info": {
   "codemirror_mode": {
    "name": "ipython",
    "version": 3
   },
   "file_extension": ".py",
   "mimetype": "text/x-python",
   "name": "python",
   "nbconvert_exporter": "python",
   "pygments_lexer": "ipython3",
   "version": "3.8.12"
  }
 },
 "nbformat": 4,
 "nbformat_minor": 1
}
